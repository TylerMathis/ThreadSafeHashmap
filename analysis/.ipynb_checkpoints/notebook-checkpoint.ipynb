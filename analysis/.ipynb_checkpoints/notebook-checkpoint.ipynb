{
 "cells": [
  {
   "cell_type": "markdown",
   "id": "8d96f49e-e2e6-475c-9d0e-81b9413df77e",
   "metadata": {},
   "source": [
    "This file will serve as an analysis tool for efficiency comparisons.\n",
    "\n",
    "We will need these packages for visualization"
   ]
  },
  {
   "cell_type": "code",
   "execution_count": 1,
   "id": "e61806e6-9e2b-40aa-a410-4fc27228a89e",
   "metadata": {},
   "outputs": [],
   "source": [
    "import pandas as pd\n",
    "import matplotlib.pyplot as plt"
   ]
  },
  {
   "cell_type": "code",
   "execution_count": null,
   "id": "70900721-5993-4987-911d-68508e1ac6a7",
   "metadata": {},
   "outputs": [],
   "source": []
  }
 ],
 "metadata": {
  "kernelspec": {
   "display_name": "Python 3 (ipykernel)",
   "language": "python",
   "name": "python3"
  },
  "language_info": {
   "codemirror_mode": {
    "name": "ipython",
    "version": 3
   },
   "file_extension": ".py",
   "mimetype": "text/x-python",
   "name": "python",
   "nbconvert_exporter": "python",
   "pygments_lexer": "ipython3",
   "version": "3.9.7"
  }
 },
 "nbformat": 4,
 "nbformat_minor": 5
}
